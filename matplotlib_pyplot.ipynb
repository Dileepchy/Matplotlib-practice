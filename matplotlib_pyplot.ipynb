{
 "cells": [
  {
   "cell_type": "markdown",
   "id": "98ed30db",
   "metadata": {},
   "source": [
    "## Introduction to pyplot"
   ]
  },
  {
   "cell_type": "markdown",
   "id": "5d7d36c2",
   "metadata": {},
   "source": [
    "matplotlib.pyplot is a collection of functions that make matplotlib work like MATLAB. Each pyplot function makes some change to a figure: e.g., creates a figure, creates a plotting area in a figure, plots some lines in a plotting area, decorates the plot with labels, etc."
   ]
  },
  {
   "cell_type": "code",
   "execution_count": null,
   "id": "e5965277",
   "metadata": {
    "vscode": {
     "languageId": "plaintext"
    }
   },
   "outputs": [],
   "source": []
  }
 ],
 "metadata": {
  "language_info": {
   "name": "python"
  }
 },
 "nbformat": 4,
 "nbformat_minor": 5
}
